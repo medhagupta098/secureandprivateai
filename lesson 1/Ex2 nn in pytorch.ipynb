{
 "cells": [
  {
   "cell_type": "code",
   "execution_count": 127,
   "metadata": {},
   "outputs": [],
   "source": [
    "%matplotlib inline\n",
    "%config InlineBackend.figure_format = 'retina'\n",
    "\n",
    "import numpy as np\n",
    "import torch\n",
    "\n",
    "import helper\n",
    "\n",
    "import matplotlib.pyplot as plt"
   ]
  },
  {
   "cell_type": "code",
   "execution_count": 111,
   "metadata": {},
   "outputs": [],
   "source": [
    "from torchvision import datasets, transforms\n",
    "\n",
    "# Define a transform to normalize the data\n",
    "transform = transforms.Compose([transforms.ToTensor(),\n",
    "                              transforms.Normalize((0.5,), (0.5,)),\n",
    "                              ])\n",
    "\n",
    "# Download and load the training data\n",
    "trainset = datasets.MNIST('~/.pytorch/MNIST_data/', download=True, train=True, transform=transform)\n",
    "trainloader = torch.utils.data.DataLoader(trainset, batch_size=64, shuffle=True)"
   ]
  },
  {
   "cell_type": "code",
   "execution_count": 112,
   "metadata": {},
   "outputs": [
    {
     "name": "stdout",
     "output_type": "stream",
     "text": [
      "<class 'torch.Tensor'>\n",
      "torch.Size([64, 1, 28, 28])\n",
      "torch.Size([64])\n"
     ]
    }
   ],
   "source": [
    "dataiter = iter(trainloader)\n",
    "images, labels = dataiter.next()\n",
    "print(type(images))\n",
    "print(images.shape)\n",
    "print(labels.shape)"
   ]
  },
  {
   "cell_type": "code",
   "execution_count": 113,
   "metadata": {},
   "outputs": [
    {
     "data": {
      "image/png": "[encoded data removed]",
      "text/plain": [
       "<Figure size 432x288 with 1 Axes>"
      ]
     },
     "metadata": {
      "image/png": {
       "height": 250,
       "width": 253
      },
      "needs_background": "light"
     },
     "output_type": "display_data"
    }
   ],
   "source": [
    "plt.imshow(images[1].numpy().squeeze(), cmap='Greys_r');"
   ]
  },
  {
   "cell_type": "code",
   "execution_count": 114,
   "metadata": {},
   "outputs": [
    {
     "name": "stdout",
     "output_type": "stream",
     "text": [
      "torch.Size([64, 10])\n",
      "tensor([[ 3.4532e+00, -5.7662e+00,  6.6726e+00, -2.0199e+01,  1.2276e+01,\n",
      "          2.1039e+01, -1.5092e-01,  1.0667e+01,  3.1264e+00,  8.8985e+00],\n",
      "        [ 2.7716e+00, -8.8298e+00,  1.1370e+01, -7.6498e+00,  1.1398e+01,\n",
      "          1.1779e+01,  1.4780e+00,  1.4227e+01,  8.3929e+00, -4.4096e-01],\n",
      "        [ 1.1346e+01, -1.1230e+01,  7.2485e+00, -6.6231e+00,  2.1946e+01,\n",
      "          1.2116e+01,  8.5067e+00,  1.8500e+01, -1.1666e+00,  3.8016e+00],\n",
      "        [ 1.1659e+01, -3.8124e+00,  1.0513e+01, -7.9096e+00,  2.0536e+01,\n",
      "          1.4808e+01,  7.8873e+00,  1.0086e+01,  1.0774e+01, -9.1171e+00],\n",
      "        [-1.3455e+00, -1.0864e+01,  9.0245e+00, -1.2444e+01,  8.1923e+00,\n",
      "          1.5591e+01,  1.0386e+01,  8.5883e+00, -1.2301e+00,  3.5677e-01],\n",
      "        [ 7.4140e-01, -5.0829e+00,  7.0841e+00, -1.2183e+01,  1.8612e+01,\n",
      "          1.8180e+01, -2.2019e+00,  1.9588e+01,  2.9346e+00,  2.1396e+00],\n",
      "        [ 6.0249e+00,  1.3107e+00,  1.1866e+01, -1.4098e+01,  1.4310e+01,\n",
      "          1.1752e+01,  7.9634e+00,  1.3099e+01,  3.3755e-01, -1.0638e+01],\n",
      "        [ 1.0712e+01, -4.0132e+00, -5.0618e+00, -1.0936e+01,  7.6369e+00,\n",
      "          1.8002e+01,  3.7635e+00,  9.2738e+00,  1.9431e+00, -1.3583e+00],\n",
      "        [ 1.0791e+01, -1.7690e+01,  1.5988e+00, -1.0434e+01,  1.0593e+01,\n",
      "          1.6092e+01,  1.1456e+01,  1.2328e+01,  1.2068e+00, -9.4786e-01],\n",
      "        [ 5.7568e+00, -4.7578e+00, -8.1178e+00, -1.6578e+01,  6.0694e+00,\n",
      "          1.6552e+01,  7.1319e-01,  1.5808e+01, -3.8887e-01, -1.2284e+00],\n",
      "        [ 4.7324e+00, -7.0617e+00,  3.4154e+00, -1.1043e+01,  5.4070e+00,\n",
      "          1.5443e+01,  1.1140e+01,  1.1932e+01,  3.8921e-01, -7.2663e+00],\n",
      "        [ 2.7045e+00, -7.3783e+00,  5.5654e+00, -1.5013e+01,  1.6007e+01,\n",
      "          1.1078e+01,  7.9766e+00,  1.3955e+01,  1.4097e+01, -8.1042e-01],\n",
      "        [ 8.9351e+00, -3.8527e+00,  4.0837e+00, -1.0547e+01,  1.8962e+01,\n",
      "          2.1337e+01,  1.0589e+00,  1.1200e+01,  9.7938e+00, -5.8013e+00],\n",
      "        [ 9.3218e+00, -1.0728e+01,  4.5876e+00, -1.6339e+01,  4.0303e+00,\n",
      "          1.7021e+01, -2.1906e+00,  1.8137e+01,  3.0152e+00, -1.1503e+00],\n",
      "        [ 9.9226e+00, -1.5036e+01,  3.6940e+00, -1.6344e+01,  7.3383e+00,\n",
      "          9.9338e+00, -1.6893e+00,  1.8479e+01,  5.2648e+00,  1.3724e+00],\n",
      "        [ 9.4985e+00,  1.9402e-01,  1.1653e+01, -4.0016e+00,  4.3467e+00,\n",
      "          8.1417e+00,  5.1798e+00,  1.8343e+01,  7.9822e+00, -2.8659e+00],\n",
      "        [-5.7915e-01, -1.0976e+01,  1.6478e+01, -1.6362e+01,  1.2107e+01,\n",
      "          7.1907e+00,  1.3355e+01,  2.3446e+01,  3.5520e+00, -4.0061e+00],\n",
      "        [-2.0811e-01, -5.6065e+00,  9.6881e+00, -1.4897e+01,  1.6726e+01,\n",
      "          1.3504e+01,  2.4743e-01,  2.4037e+01,  7.4811e-02,  5.3643e+00],\n",
      "        [ 6.9592e+00, -1.0793e+01,  7.4081e+00, -1.5777e+01,  8.0140e+00,\n",
      "          1.5265e+01,  4.9178e+00,  1.5260e+01,  1.6456e+00, -7.1673e-01],\n",
      "        [ 1.2110e+00, -1.4956e+01,  7.2243e+00, -1.5763e+01,  8.6454e+00,\n",
      "          1.4672e+01,  1.2964e+01,  1.1230e+01,  1.1607e+00, -1.0887e+00],\n",
      "        [ 4.1221e+00, -1.5275e+00,  7.2672e-01, -1.8674e+01,  1.3996e+01,\n",
      "          1.8661e+01,  2.3814e+00,  9.3752e+00,  2.2694e-01, -4.0101e-01],\n",
      "        [ 8.1857e+00, -1.1680e+01,  2.9902e+00, -1.4065e+01,  1.0377e+01,\n",
      "          1.5443e+01,  4.4823e-01,  1.5828e+01,  2.1649e+00, -2.5889e-01],\n",
      "        [ 5.2778e+00, -1.1947e+01,  4.0912e+00, -8.2287e+00,  1.3487e+01,\n",
      "          2.0619e+01, -4.1511e+00,  2.0557e+01,  3.9902e-02,  2.9315e+00],\n",
      "        [ 1.4645e+01, -4.8044e+00,  8.0745e+00, -1.4054e+01,  2.0896e+01,\n",
      "          1.3506e+01,  3.9196e+00,  2.2415e+01,  4.5771e+00,  2.5109e-01],\n",
      "        [ 1.5111e+01, -6.5785e-01,  1.3006e+01, -8.4372e+00,  1.8449e+01,\n",
      "          1.2232e+01,  6.2311e+00,  1.7878e+01,  3.6110e+00,  5.4976e+00],\n",
      "        [ 1.0558e+01, -4.7091e+00,  8.7834e+00, -1.1068e+01,  1.2160e+01,\n",
      "          1.7232e+01,  1.3963e+00,  1.2818e+01,  1.7227e+00,  5.0737e+00],\n",
      "        [ 8.4612e-01, -6.2489e+00,  7.2131e+00, -1.6429e+01,  1.9150e+01,\n",
      "          1.2787e+01,  3.8960e+00,  1.8613e+01, -1.7407e+00,  2.2555e+00],\n",
      "        [ 1.3566e+01, -9.1139e+00,  6.4492e+00, -7.3604e+00,  1.9170e+01,\n",
      "          2.3284e+01,  1.7313e+00,  1.5876e+01, -3.7260e+00, -1.8008e+00],\n",
      "        [ 1.1643e+01, -1.1872e+01,  4.8613e+00, -1.6030e+01,  2.0380e+01,\n",
      "          1.2482e+01, -5.6730e+00,  2.1107e+01,  4.9525e+00, -2.0771e+00],\n",
      "        [ 1.4164e+01, -7.2140e+00,  8.4726e+00, -5.5633e+00,  1.7656e+01,\n",
      "          1.5458e+01, -6.8675e+00,  1.3443e+01,  9.7522e+00, -3.0707e+00],\n",
      "        [ 1.1377e+01, -2.8442e+00,  2.6891e-01, -9.1170e+00,  9.1064e+00,\n",
      "          1.5643e+01,  4.8341e+00,  2.8021e+01, -1.8089e+00,  5.8191e+00],\n",
      "        [ 3.1952e+00, -9.2591e+00,  1.3608e+00, -1.0562e+01,  1.3378e+01,\n",
      "          1.4493e+01,  5.4361e-01,  1.1603e+01, -1.7150e+00,  2.1446e+00],\n",
      "        [ 2.2275e+01, -1.1041e+00,  9.0462e+00, -9.0181e+00,  1.5805e+01,\n",
      "          1.3956e+01, -1.4062e+00,  2.0161e+01,  8.3605e+00,  6.9145e-01],\n",
      "        [ 2.9304e+00, -1.1937e+01,  8.4148e+00, -8.6694e+00, -1.3100e+00,\n",
      "          1.5217e+01,  3.8867e+00,  1.1462e+01,  5.7486e-01,  4.1077e+00],\n",
      "        [ 4.4190e+00, -9.6542e+00,  2.4089e+00, -1.3700e+01,  1.1481e+01,\n",
      "          1.5427e+01, -2.7138e+00,  2.0207e+01,  7.6977e+00,  7.3575e+00],\n",
      "        [ 7.8571e+00, -1.2000e+00, -1.3257e+00, -1.7096e+01,  9.4990e+00,\n",
      "          1.9443e+01,  7.6621e+00,  9.2438e+00, -4.9107e+00, -2.2480e+00],\n",
      "        [ 5.6180e+00, -2.1871e+00, -9.6399e-01, -1.9162e+01,  1.2528e+01,\n",
      "          1.1770e+01, -7.6328e+00,  8.0851e+00, -1.8554e+00, -5.6099e+00],\n",
      "        [-3.3051e+00, -6.6634e+00,  5.3453e+00, -4.4861e+00,  1.5804e+01,\n",
      "          3.4860e+00,  2.9942e+00,  1.9671e+01, -1.0015e+00, -1.4536e-01],\n",
      "        [ 1.2294e+01, -1.0529e+01,  5.5696e-01, -5.4200e+00,  1.0249e+01,\n",
      "          1.8260e+01, -8.2667e+00,  2.0423e+01,  3.8821e+00, -3.8193e+00],\n",
      "        [ 1.0306e+01, -1.5795e+01,  5.1346e+00, -6.1619e+00,  2.0425e+01,\n",
      "          1.4193e+01,  4.8269e+00,  1.2946e+01,  1.0662e+01,  1.4205e+00],\n",
      "        [ 4.0826e+00, -7.7729e+00, -1.1737e+00, -1.0092e+01,  1.9266e+01,\n",
      "          1.4802e+01,  7.5202e+00,  2.4831e+00,  7.3392e+00,  1.8204e+00],\n",
      "        [ 6.3255e+00, -8.9696e+00,  2.4677e+00, -1.1469e+01,  1.0390e+01,\n",
      "          1.3834e+01, -9.7628e-01,  2.1584e+01,  8.3892e+00,  3.5763e+00],\n",
      "        [ 4.7686e+00, -1.3746e+01,  5.0866e+00, -1.9584e+00,  1.6193e+01,\n",
      "          1.1991e+01,  4.8479e+00,  2.2078e+01,  2.4556e+00,  2.0874e+00],\n",
      "        [ 8.3862e+00, -4.7280e+00,  1.2366e+01, -1.4156e+01,  1.2766e+01,\n",
      "          1.4363e+01, -3.3235e+00,  1.9627e+01,  1.2559e+01,  5.3299e+00],\n",
      "        [ 1.4259e+01, -1.2005e+01,  8.1623e+00, -1.7730e+01,  1.6614e+01,\n",
      "          1.6312e+01,  1.4841e+01,  1.5176e+01,  6.2084e+00,  6.0903e+00],\n",
      "        [ 5.9892e+00, -5.3853e+00,  1.1803e+01, -8.7585e+00,  1.6840e+01,\n",
      "          1.6541e+01,  4.0289e+00,  8.4019e+00,  9.4676e+00, -1.0170e+01],\n",
      "        [ 1.2842e+01, -6.2893e+00,  1.1762e+01, -1.5189e+01,  1.8293e+01,\n",
      "          1.3543e+01,  7.4147e-01,  1.2118e+01,  9.3311e+00, -6.9090e+00],\n",
      "        [ 1.5598e+01,  6.7801e-03,  1.2498e+01, -1.1236e+01,  2.2311e+01,\n",
      "          1.3703e+01,  6.6515e+00,  2.1747e+01, -1.1513e+00,  1.2276e+00],\n",
      "        [ 1.1644e+01, -4.0743e-01,  2.0888e+01, -1.0083e+01,  1.4887e+01,\n",
      "          1.1216e+01, -2.4658e+00,  1.6936e+01,  5.2835e+00,  1.2922e+00],\n",
      "        [ 8.4539e+00, -8.4091e+00,  3.6750e+00, -1.2841e+01,  2.1323e+00,\n",
      "          1.8082e+01, -1.0345e+01,  1.6503e+01,  9.8275e-01, -3.3832e+00],\n",
      "        [ 1.4916e+01,  6.9404e+00,  1.4159e+00, -1.5886e+01,  2.3947e+01,\n",
      "          1.6561e+01,  6.9535e+00,  2.1475e+01,  3.8767e+00, -4.7066e+00],\n",
      "        [ 4.4324e+00, -8.3088e+00,  3.2267e+00, -1.4345e+01,  2.3440e+00,\n",
      "          1.2638e+01,  3.0327e+00,  1.0704e+01, -5.2180e+00, -3.6283e-01],\n",
      "        [ 1.1367e+01, -6.2263e-01,  1.1837e+01, -1.0245e+01,  2.2784e+01,\n",
      "          1.5619e+01, -1.3117e-02,  1.4939e+01, -1.4837e+00, -8.7177e+00],\n",
      "        [ 1.4550e+01, -9.9233e+00,  2.7865e+00, -1.3408e+01,  1.8543e+01,\n",
      "          1.9999e+01,  4.4634e+00,  1.1316e+01, -3.6482e-02, -1.3212e+01],\n",
      "        [ 1.6025e+00, -1.0406e+01,  3.4662e+00, -1.2882e+01,  1.2317e+01,\n",
      "          1.5556e+01,  3.4033e-03,  1.8066e+01,  4.8532e+00,  2.8076e+00],\n",
      "        [ 7.1436e+00, -8.5961e+00,  5.4695e+00, -1.3462e+01,  1.2755e+01,\n",
      "          2.3714e+01, -1.9207e+00,  1.7801e+01,  1.9547e+00,  3.8882e+00],\n",
      "        [ 5.6540e+00, -5.1640e+00,  1.6234e+00, -1.3878e+01,  1.2721e+01,\n",
      "          1.6044e+01,  9.0776e+00,  1.0200e+01,  9.7534e-01, -1.6870e+00],\n",
      "        [ 1.0957e+01, -1.1924e+01,  8.9217e+00, -1.7758e+01,  1.4568e+01,\n",
      "          1.6658e+01,  2.9916e+00,  1.6921e+01, -5.7580e-01,  1.4660e+00],\n",
      "        [ 1.0169e+00, -3.8168e+00,  1.9498e+00, -1.1023e+01,  1.7104e+01,\n",
      "          1.3351e+01,  5.1181e+00,  1.1937e+01,  5.4772e-01,  3.0732e+00],\n",
      "        [ 1.4289e+00, -5.7295e+00,  6.4884e-01, -1.4449e+01,  1.5987e+01,\n",
      "          1.7904e+01,  2.5684e+00,  1.0861e+01,  1.0940e+00, -1.3332e+01],\n",
      "        [ 1.6237e+01, -3.7726e+00,  1.4485e+01, -1.2717e+01,  2.2920e+01,\n",
      "          1.5787e+01,  9.5218e+00,  9.4837e+00,  7.1062e+00, -1.4466e+00],\n",
      "        [ 1.0141e+01, -2.3015e+00,  1.2942e+00, -1.0046e+01,  1.6068e+01,\n",
      "          1.8246e+01, -1.7972e+00,  1.7862e+01, -7.7327e-01, -1.4017e+00],\n",
      "        [ 2.0456e+01, -7.0400e+00,  4.0107e+00, -8.7624e+00,  8.0488e+00,\n",
      "          9.0277e+00,  1.5615e+01,  1.0912e+01, -1.5705e+00,  2.4916e+00],\n",
      "        [ 6.1624e+00, -1.0156e+01,  2.7816e+00, -1.2162e+01,  1.8264e+01,\n",
      "          1.0817e+01,  1.3637e+01,  2.2205e+01,  2.3774e+00, -2.0299e+00]])\n"
     ]
    }
   ],
   "source": [
    "## Solution\n",
    "def activation(x):\n",
    "    return 1/(1+torch.exp(-x))\n",
    "\n",
    "# Flatten the input images\n",
    "inputs = images.view(images.shape[0], -1)\n",
    "\n",
    "# Create parameters\n",
    "w1 = torch.randn(784, 256)\n",
    "b1 = torch.randn(256)\n",
    "\n",
    "w2 = torch.randn(256, 10)\n",
    "b2 = torch.randn(10)\n",
    "\n",
    "h = activation(torch.mm(inputs, w1) + b1)\n",
    "\n",
    "out = torch.mm(h, w2) + b2\n",
    "print(out.shape)\n",
    "print(out)"
   ]
  },
  {
   "cell_type": "code",
   "execution_count": 115,
   "metadata": {},
   "outputs": [
    {
     "name": "stdout",
     "output_type": "stream",
     "text": [
      "torch.Size([64, 10])\n",
      "tensor([1.0000, 1.0000, 1.0000, 1.0000, 1.0000, 1.0000, 1.0000, 1.0000, 1.0000,\n",
      "        1.0000, 1.0000, 1.0000, 1.0000, 1.0000, 1.0000, 1.0000, 1.0000, 1.0000,\n",
      "        1.0000, 1.0000, 1.0000, 1.0000, 1.0000, 1.0000, 1.0000, 1.0000, 1.0000,\n",
      "        1.0000, 1.0000, 1.0000, 1.0000, 1.0000, 1.0000, 1.0000, 1.0000, 1.0000,\n",
      "        1.0000, 1.0000, 1.0000, 1.0000, 1.0000, 1.0000, 1.0000, 1.0000, 1.0000,\n",
      "        1.0000, 1.0000, 1.0000, 1.0000, 1.0000, 1.0000, 1.0000, 1.0000, 1.0000,\n",
      "        1.0000, 1.0000, 1.0000, 1.0000, 1.0000, 1.0000, 1.0000, 1.0000, 1.0000,\n",
      "        1.0000])\n"
     ]
    }
   ],
   "source": [
    "def softmax(x):\n",
    "    return torch.exp(x)/torch.sum(torch.exp(x), dim=1).view(-1, 1)\n",
    "\n",
    "probabilities = softmax(out)\n",
    "\n",
    "# Does it have the right shape? Should be (64, 10)\n",
    "print(probabilities.shape)\n",
    "# Does it sum to 1?\n",
    "print(probabilities.sum(dim=1))"
   ]
  },
  {
   "cell_type": "code",
   "execution_count": 116,
   "metadata": {},
   "outputs": [],
   "source": [
    "from torch import nn\n"
   ]
  },
  {
   "cell_type": "code",
   "execution_count": 117,
   "metadata": {},
   "outputs": [],
   "source": [
    "class Network(nn.Module):\n",
    "    def __init__(self):\n",
    "        super().__init__()\n",
    "        \n",
    "        # Inputs to hidden layer linear transformation\n",
    "        self.hidden = nn.Linear(784, 256)\n",
    "        # Output layer, 10 units - one for each digit\n",
    "        self.output = nn.Linear(256, 10)\n",
    "        \n",
    "        # Define sigmoid activation and softmax output \n",
    "        self.sigmoid = nn.Sigmoid()\n",
    "        self.softmax = nn.Softmax(dim=1)\n",
    "        \n",
    "    def forward(self, x):\n",
    "        # Pass the input tensor through each of our operations\n",
    "        x = self.hidden(x)\n",
    "        x = self.sigmoid(x)\n",
    "        x = self.output(x)\n",
    "        x = self.softmax(x)\n",
    "        \n",
    "        return x"
   ]
  },
  {
   "cell_type": "code",
   "execution_count": 118,
   "metadata": {},
   "outputs": [
    {
     "data": {
      "text/plain": [
       "Network(\n",
       "  (hidden): Linear(in_features=784, out_features=256, bias=True)\n",
       "  (output): Linear(in_features=256, out_features=10, bias=True)\n",
       "  (sigmoid): Sigmoid()\n",
       "  (softmax): Softmax()\n",
       ")"
      ]
     },
     "execution_count": 118,
     "metadata": {},
     "output_type": "execute_result"
    }
   ],
   "source": [
    "model = Network()\n",
    "model"
   ]
  },
  {
   "cell_type": "code",
   "execution_count": 119,
   "metadata": {},
   "outputs": [],
   "source": [
    "import torch.nn.functional as F\n",
    "\n",
    "class Network(nn.Module):\n",
    "    def __init__(self):\n",
    "        super().__init__()\n",
    "        # Inputs to hidden layer linear transformation\n",
    "        self.hidden = nn.Linear(784, 256)\n",
    "        # Output layer, 10 units - one for each digit\n",
    "        self.output = nn.Linear(256, 10)\n",
    "        \n",
    "    def forward(self, x):\n",
    "        # Hidden layer with sigmoid activation\n",
    "        x = F.sigmoid(self.hidden(x))\n",
    "        # Output layer with softmax activation\n",
    "        x = F.softmax(self.output(x), dim=1)\n",
    "        \n",
    "        return x"
   ]
  },
  {
   "cell_type": "code",
   "execution_count": 120,
   "metadata": {},
   "outputs": [
    {
     "data": {
      "text/plain": [
       "Network(\n",
       "  (fc1): Linear(in_features=784, out_features=128, bias=True)\n",
       "  (fc2): Linear(in_features=128, out_features=64, bias=True)\n",
       "  (fc3): Linear(in_features=64, out_features=10, bias=True)\n",
       ")"
      ]
     },
     "execution_count": 120,
     "metadata": {},
     "output_type": "execute_result"
    }
   ],
   "source": [
    "\n",
    "class Network(nn.Module):\n",
    "    def __init__(self):\n",
    "        super().__init__()\n",
    "        # Defining the layers, 128, 64, 10 units each\n",
    "        self.fc1 = nn.Linear(784, 128)\n",
    "        self.fc2 = nn.Linear(128, 64)\n",
    "        # Output layer, 10 units - one for each digit\n",
    "        self.fc3 = nn.Linear(64, 10)\n",
    "        \n",
    "    def forward(self, x):\n",
    "        ''' Forward pass through the network, returns the output logits '''\n",
    "        \n",
    "        x = self.fc1(x)\n",
    "        x = F.relu(x)\n",
    "        x = self.fc2(x)\n",
    "        x = F.relu(x)\n",
    "        x = self.fc3(x)\n",
    "        x = F.softmax(x, dim=1)\n",
    "        \n",
    "        return x\n",
    "\n",
    "model = Network()\n",
    "model"
   ]
  },
  {
   "cell_type": "code",
   "execution_count": 121,
   "metadata": {},
   "outputs": [
    {
     "name": "stdout",
     "output_type": "stream",
     "text": [
      "Parameter containing:\n",
      "tensor([[ 0.0263, -0.0158, -0.0054,  ...,  0.0065,  0.0135,  0.0049],\n",
      "        [-0.0132,  0.0052, -0.0323,  ..., -0.0005,  0.0295,  0.0155],\n",
      "        [-0.0315, -0.0325, -0.0188,  ..., -0.0165,  0.0061, -0.0332],\n",
      "        ...,\n",
      "        [-0.0229, -0.0315, -0.0304,  ..., -0.0328, -0.0261, -0.0145],\n",
      "        [ 0.0311, -0.0165, -0.0153,  ...,  0.0148,  0.0138, -0.0242],\n",
      "        [ 0.0044,  0.0355,  0.0199,  ..., -0.0164, -0.0214, -0.0225]],\n",
      "       requires_grad=True)\n",
      "Parameter containing:\n",
      "tensor([ 5.5779e-05,  7.7265e-03,  2.9633e-02, -2.8047e-02, -1.9924e-03,\n",
      "         1.2994e-02,  2.0609e-02,  3.3053e-02, -2.1102e-02,  2.3522e-02,\n",
      "         2.6768e-03, -1.7141e-02, -1.1079e-03,  2.0300e-02, -1.8260e-02,\n",
      "        -1.1255e-02,  1.2852e-02,  9.8328e-03,  1.0639e-02,  3.1149e-02,\n",
      "         1.7655e-02, -1.6504e-03, -8.9628e-03,  2.8089e-02,  2.5567e-02,\n",
      "        -1.2363e-02,  9.6922e-03,  2.0427e-02,  2.9302e-02, -3.5499e-02,\n",
      "        -1.1625e-02,  3.3716e-02, -1.3567e-02, -4.4790e-03, -1.9272e-02,\n",
      "         1.1954e-02, -3.4031e-02, -1.0474e-02,  2.1655e-02,  1.3482e-05,\n",
      "         6.3918e-03, -7.7599e-03, -3.2458e-03, -1.7262e-02,  1.1174e-02,\n",
      "         1.1000e-02, -2.7791e-02, -2.6681e-02, -9.4911e-03, -3.0248e-02,\n",
      "         2.6884e-04,  3.1727e-02, -1.1463e-02,  6.3296e-03, -2.8870e-02,\n",
      "        -1.5440e-02,  1.7030e-02,  2.2804e-02,  2.8543e-02, -4.3002e-03,\n",
      "         6.9524e-03,  2.9688e-02, -1.2628e-02, -2.1823e-03, -3.3245e-02,\n",
      "        -2.8446e-02, -3.1975e-02, -5.9368e-03,  1.3205e-02, -1.4668e-02,\n",
      "        -2.8039e-02,  6.9114e-03, -2.5485e-02, -1.5071e-03, -2.3014e-02,\n",
      "        -9.2993e-03, -6.5186e-03,  2.6973e-02,  1.1567e-02,  1.7737e-02,\n",
      "        -3.3019e-02,  4.9281e-03,  1.1268e-02, -7.4135e-03,  2.7266e-02,\n",
      "         2.8552e-02, -2.5500e-02, -4.5146e-03,  2.3426e-02, -3.1264e-02,\n",
      "         2.9694e-05,  2.0146e-02,  3.2402e-02,  3.2161e-02,  4.0718e-03,\n",
      "         2.0220e-02, -1.4797e-02, -6.3252e-03,  3.8649e-03,  8.4881e-03,\n",
      "         2.2587e-03,  2.4504e-02,  1.8337e-03, -2.3627e-02,  2.1348e-02,\n",
      "        -2.0274e-02, -8.6062e-03, -1.3377e-02,  1.0035e-03,  2.0469e-02,\n",
      "         4.4135e-04,  1.0475e-02,  2.5826e-02,  2.5873e-02, -8.1238e-03,\n",
      "         1.3821e-02,  2.1763e-02, -1.1065e-02, -9.8092e-03, -2.9844e-02,\n",
      "        -4.4512e-03,  1.5405e-02, -2.6762e-02,  1.1148e-02, -3.4558e-02,\n",
      "         1.1465e-02, -1.5942e-02, -2.7244e-02], requires_grad=True)\n"
     ]
    }
   ],
   "source": [
    "print(model.fc1.weight)\n",
    "print(model.fc1.bias)"
   ]
  },
  {
   "cell_type": "code",
   "execution_count": 122,
   "metadata": {},
   "outputs": [
    {
     "name": "stdout",
     "output_type": "stream",
     "text": [
      "tensor([[ 0.0263, -0.0158, -0.0054,  ...,  0.0065,  0.0135,  0.0049],\n",
      "        [-0.0132,  0.0052, -0.0323,  ..., -0.0005,  0.0295,  0.0155],\n",
      "        [-0.0315, -0.0325, -0.0188,  ..., -0.0165,  0.0061, -0.0332],\n",
      "        ...,\n",
      "        [-0.0229, -0.0315, -0.0304,  ..., -0.0328, -0.0261, -0.0145],\n",
      "        [ 0.0311, -0.0165, -0.0153,  ...,  0.0148,  0.0138, -0.0242],\n",
      "        [ 0.0044,  0.0355,  0.0199,  ..., -0.0164, -0.0214, -0.0225]])\n"
     ]
    }
   ],
   "source": [
    "print( model.fc1.weight.data)"
   ]
  },
  {
   "cell_type": "code",
   "execution_count": 123,
   "metadata": {},
   "outputs": [
    {
     "data": {
      "text/plain": [
       "tensor([0., 0., 0., 0., 0., 0., 0., 0., 0., 0., 0., 0., 0., 0., 0., 0., 0., 0., 0., 0., 0., 0., 0., 0.,\n",
       "        0., 0., 0., 0., 0., 0., 0., 0., 0., 0., 0., 0., 0., 0., 0., 0., 0., 0., 0., 0., 0., 0., 0., 0.,\n",
       "        0., 0., 0., 0., 0., 0., 0., 0., 0., 0., 0., 0., 0., 0., 0., 0., 0., 0., 0., 0., 0., 0., 0., 0.,\n",
       "        0., 0., 0., 0., 0., 0., 0., 0., 0., 0., 0., 0., 0., 0., 0., 0., 0., 0., 0., 0., 0., 0., 0., 0.,\n",
       "        0., 0., 0., 0., 0., 0., 0., 0., 0., 0., 0., 0., 0., 0., 0., 0., 0., 0., 0., 0., 0., 0., 0., 0.,\n",
       "        0., 0., 0., 0., 0., 0., 0., 0.])"
      ]
     },
     "execution_count": 123,
     "metadata": {},
     "output_type": "execute_result"
    }
   ],
   "source": [
    "model.fc1.bias.data.fill_(0)\n"
   ]
  },
  {
   "cell_type": "code",
   "execution_count": 124,
   "metadata": {},
   "outputs": [
    {
     "data": {
      "text/plain": [
       "tensor([[ 0.0008,  0.0014,  0.0089,  ...,  0.0090, -0.0094, -0.0001],\n",
       "        [ 0.0101, -0.0123,  0.0050,  ..., -0.0017, -0.0011,  0.0016],\n",
       "        [-0.0033,  0.0106,  0.0091,  ..., -0.0150,  0.0079, -0.0004],\n",
       "        ...,\n",
       "        [-0.0019, -0.0015, -0.0122,  ..., -0.0046, -0.0055,  0.0027],\n",
       "        [-0.0001, -0.0085,  0.0068,  ...,  0.0014, -0.0036,  0.0081],\n",
       "        [-0.0138,  0.0024,  0.0057,  ...,  0.0076,  0.0312,  0.0020]])"
      ]
     },
     "execution_count": 124,
     "metadata": {},
     "output_type": "execute_result"
    }
   ],
   "source": [
    "model.fc1.weight.data.normal_(std=0.01)"
   ]
  },
  {
   "cell_type": "code",
   "execution_count": 125,
   "metadata": {},
   "outputs": [
    {
     "data": {
      "image/png": "[encoded data removed]",
      "text/plain": [
       "<Figure size 432x648 with 2 Axes>"
      ]
     },
     "metadata": {
      "image/png": {
       "height": 226,
       "width": 423
      },
      "needs_background": "light"
     },
     "output_type": "display_data"
    }
   ],
   "source": [
    "dataiter = iter(trainloader)\n",
    "images, labels = dataiter.next()\n",
    "\n",
    "images.resize_(64, 1, 784)\n",
    "\n",
    "\n",
    "img_idx = 0\n",
    "ps = model.forward(images[img_idx,:])\n",
    "\n",
    "img = images[img_idx]\n",
    "helper.view_classify(img.view(1, 28, 28), ps)"
   ]
  },
  {
   "cell_type": "code",
   "execution_count": 128,
   "metadata": {},
   "outputs": [
    {
     "name": "stdout",
     "output_type": "stream",
     "text": [
      "Sequential(\n",
      "  (0): Linear(in_features=784, out_features=128, bias=True)\n",
      "  (1): ReLU()\n",
      "  (2): Linear(in_features=128, out_features=64, bias=True)\n",
      "  (3): ReLU()\n",
      "  (4): Linear(in_features=64, out_features=10, bias=True)\n",
      "  (5): Softmax()\n",
      ")\n"
     ]
    },
    {
     "data": {
      "image/png": "[encoded data removed]",
      "text/plain": [
       "<Figure size 432x648 with 2 Axes>"
      ]
     },
     "metadata": {
      "image/png": {
       "height": 226,
       "width": 423
      },
      "needs_background": "light"
     },
     "output_type": "display_data"
    }
   ],
   "source": [
    "input_size = 784\n",
    "hidden_sizes = [128, 64]\n",
    "output_size = 10\n",
    "\n",
    "# Build a feed-forward network\n",
    "model = nn.Sequential(nn.Linear(input_size, hidden_sizes[0]),\n",
    "                      nn.ReLU(),\n",
    "                      nn.Linear(hidden_sizes[0], hidden_sizes[1]),\n",
    "                      nn.ReLU(),\n",
    "                      nn.Linear(hidden_sizes[1], output_size),\n",
    "                      nn.Softmax(dim=1))\n",
    "print(model)\n",
    "\n",
    "# Forward pass through the network and display output\n",
    "images, labels = next(iter(trainloader))\n",
    "images.resize_(images.shape[0], 1, 784)\n",
    "ps = model.forward(images[0,:])\n",
    "helper.view_classify(images[0].view(1, 28, 28), ps)"
   ]
  },
  {
   "cell_type": "code",
   "execution_count": 129,
   "metadata": {},
   "outputs": [
    {
     "name": "stdout",
     "output_type": "stream",
     "text": [
      "Linear(in_features=784, out_features=128, bias=True)\n"
     ]
    },
    {
     "data": {
      "text/plain": [
       "Parameter containing:\n",
       "tensor([[ 0.0244, -0.0220, -0.0077,  ..., -0.0235,  0.0143,  0.0178],\n",
       "        [-0.0283,  0.0219,  0.0278,  ..., -0.0080,  0.0294, -0.0016],\n",
       "        [ 0.0036, -0.0149, -0.0269,  ..., -0.0234,  0.0062, -0.0144],\n",
       "        ...,\n",
       "        [-0.0064, -0.0236,  0.0003,  ..., -0.0306, -0.0316, -0.0116],\n",
       "        [-0.0133,  0.0234,  0.0052,  ..., -0.0111, -0.0138,  0.0291],\n",
       "        [-0.0141, -0.0352, -0.0116,  ...,  0.0187,  0.0136,  0.0077]],\n",
       "       requires_grad=True)"
      ]
     },
     "execution_count": 129,
     "metadata": {},
     "output_type": "execute_result"
    }
   ],
   "source": [
    "print(model[0])\n",
    "model[0].weight"
   ]
  },
  {
   "cell_type": "code",
   "execution_count": 130,
   "metadata": {},
   "outputs": [
    {
     "data": {
      "text/plain": [
       "Sequential(\n",
       "  (fc1): Linear(in_features=784, out_features=128, bias=True)\n",
       "  (relu1): ReLU()\n",
       "  (fc2): Linear(in_features=128, out_features=64, bias=True)\n",
       "  (relu2): ReLU()\n",
       "  (output): Linear(in_features=64, out_features=10, bias=True)\n",
       "  (softmax): Softmax()\n",
       ")"
      ]
     },
     "execution_count": 130,
     "metadata": {},
     "output_type": "execute_result"
    }
   ],
   "source": [
    "from collections import OrderedDict\n",
    "model = nn.Sequential(OrderedDict([\n",
    "                      ('fc1', nn.Linear(input_size, hidden_sizes[0])),\n",
    "                      ('relu1', nn.ReLU()),\n",
    "                      ('fc2', nn.Linear(hidden_sizes[0], hidden_sizes[1])),\n",
    "                      ('relu2', nn.ReLU()),\n",
    "                      ('output', nn.Linear(hidden_sizes[1], output_size)),\n",
    "                      ('softmax', nn.Softmax(dim=1))]))\n",
    "model"
   ]
  },
  {
   "cell_type": "code",
   "execution_count": 131,
   "metadata": {},
   "outputs": [
    {
     "name": "stdout",
     "output_type": "stream",
     "text": [
      "Linear(in_features=784, out_features=128, bias=True)\n",
      "Linear(in_features=784, out_features=128, bias=True)\n"
     ]
    }
   ],
   "source": [
    "print(model[0])\n",
    "print(model.fc1)"
   ]
  },
  {
   "cell_type": "code",
   "execution_count": null,
   "metadata": {},
   "outputs": [],
   "source": []
  }
 ],
 "metadata": {
  "kernelspec": {
   "display_name": "Python 3",
   "language": "python",
   "name": "python3"
  },
  "language_info": {
   "codemirror_mode": {
    "name": "ipython",
    "version": 3
   },
   "file_extension": ".py",
   "mimetype": "text/x-python",
   "name": "python",
   "nbconvert_exporter": "python",
   "pygments_lexer": "ipython3",
   "version": "3.7.3"
  }
 },
 "nbformat": 4,
 "nbformat_minor": 2
}
